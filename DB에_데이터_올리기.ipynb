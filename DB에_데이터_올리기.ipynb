{
 "cells": [
  {
   "cell_type": "code",
   "execution_count": 36,
   "id": "4df70aff-1e06-43b8-8022-5fb0bd81a63d",
   "metadata": {},
   "outputs": [],
   "source": [
    "import pandas as pd\n",
    "from sqlalchemy import create_engine,types\n",
    "import psycopg2"
   ]
  },
  {
   "cell_type": "code",
   "execution_count": 15,
   "id": "5095f466-9695-4516-b6b4-c461fb5a77d8",
   "metadata": {},
   "outputs": [],
   "source": [
    "# 접속 db 정보\n",
    "# dbPrefix = \"postgresql\" # PostgreSql\n",
    "# dbPrefix = \"mysql\" # mariaDB\n",
    "dbPrefix = \"oracle+cx_oracle\" # Oracle (라이브러리 설치 : pip install cx_Oracle)\n",
    "dbId = \"minjae\"\n",
    "dbPw = \"minjae\"\n",
    "dbIp = \"192.168.110.111\"\n",
    "dbPort = \"1521\"\n",
    "dbName = \"orcl\"\n",
    "dataEncoding = \"utf-8\" # ms949. utf-8\n",
    "\n",
    "# 접속할 DB\n",
    "pgEngine = create_engine(f\"{dbPrefix}://{dbId}:{dbPw}@{dbIp}:{dbPort}/{dbName}\")"
   ]
  },
  {
   "cell_type": "code",
   "execution_count": 10,
   "id": "101aa007-7344-4ff6-8978-502a26ea9ca4",
   "metadata": {},
   "outputs": [],
   "source": [
    "# csv to DB ---------------------------------------"
   ]
  },
  {
   "cell_type": "code",
   "execution_count": null,
   "id": "9f04cb57-74c6-4839-b533-103664859325",
   "metadata": {},
   "outputs": [],
   "source": [
    "# 불러올 파일\n",
    "filePath = \"../dataset\"\n",
    "fileName = [\"joindata1\",\"joindata2\"]\n",
    "fileType = \".csv\"\n",
    "\n",
    "# 생성할 태이블명\n",
    "tableName = fileName"
   ]
  },
  {
   "cell_type": "code",
   "execution_count": 9,
   "id": "fe73d8bb-10ba-4d88-8ff3-d273785f98fd",
   "metadata": {},
   "outputs": [
    {
     "name": "stdout",
     "output_type": "stream",
     "text": [
      "joindata1 is created in postgresql postgres\n",
      "'utf-8' codec can't decode byte 0xb3 in position 83: invalid start byte\n"
     ]
    }
   ],
   "source": [
    "for i in range(len(tableName)) :\n",
    "    try :\n",
    "        # 파일 불러오기\n",
    "        # indata = pd.read_csv(f'{filePath}/{fileName[i]}{fileType}', encoding = dataEncoding)\n",
    "        indata = pd.read_csv(f'{filePath}/{fileName[i]}{fileType}')\n",
    "        \n",
    "        # object 타입을 VARCHAR2로 설정\n",
    "        objectColumns = list(indata.columns[indata.dtypes == 'object'])\n",
    "        typeDict={}\n",
    "        maxLen = 100\n",
    "\n",
    "        for i in range(0, len(objectColumns)):\n",
    "            typeDict[ objectColumns[i] ] = types.VARCHAR(maxLen)\n",
    "\n",
    "        # float 타입을 NUMERIC으로 설정\n",
    "        floatColumns = list(indata.columns[indata.dtypes == 'float64'])\n",
    "\n",
    "        for i in range(0, len(floatColumns)):\n",
    "            typeDict[ floatColumns[i] ] = types.NUMERIC\n",
    "            \n",
    "        # 태이블 생성\n",
    "        indata.to_sql(name = tableName[i],\n",
    "                      con = pgEngine,\n",
    "                      if_exists='replace',\n",
    "                      dtype=typeDict,\n",
    "                      index=False)\n",
    "        \n",
    "        print(f\"{tableName[i]} is created in {dbPrefix} {dbName}\")\n",
    "    except Exception as e :\n",
    "        print(e)"
   ]
  },
  {
   "cell_type": "code",
   "execution_count": 11,
   "id": "2d121fdd-8db2-4422-bc3d-3f9c80185a65",
   "metadata": {},
   "outputs": [],
   "source": [
    "# clipboard to DB ---------------------------------"
   ]
  },
  {
   "cell_type": "code",
   "execution_count": 59,
   "id": "5a354827-d1d0-4de0-bd9b-bdc08f80cda5",
   "metadata": {},
   "outputs": [
    {
     "data": {
      "text/html": [
       "<div>\n",
       "<style scoped>\n",
       "    .dataframe tbody tr th:only-of-type {\n",
       "        vertical-align: middle;\n",
       "    }\n",
       "\n",
       "    .dataframe tbody tr th {\n",
       "        vertical-align: top;\n",
       "    }\n",
       "\n",
       "    .dataframe thead th {\n",
       "        text-align: right;\n",
       "    }\n",
       "</style>\n",
       "<table border=\"1\" class=\"dataframe\">\n",
       "  <thead>\n",
       "    <tr style=\"text-align: right;\">\n",
       "      <th></th>\n",
       "      <th>광고코드</th>\n",
       "      <th>광고키워드</th>\n",
       "      <th>키워드아이디</th>\n",
       "      <th>설정한 클릭당 광고가격</th>\n",
       "      <th>클릭수</th>\n",
       "      <th>노출수</th>\n",
       "    </tr>\n",
       "  </thead>\n",
       "  <tbody>\n",
       "    <tr>\n",
       "      <th>0</th>\n",
       "      <td>hk001</td>\n",
       "      <td>스마트금융과</td>\n",
       "      <td>KEYWORD0001</td>\n",
       "      <td>500.0</td>\n",
       "      <td>10.0</td>\n",
       "      <td>100.0</td>\n",
       "    </tr>\n",
       "    <tr>\n",
       "      <th>1</th>\n",
       "      <td>hk001</td>\n",
       "      <td>강서캠퍼스</td>\n",
       "      <td>KEYWORD0004</td>\n",
       "      <td>1000.0</td>\n",
       "      <td>20.0</td>\n",
       "      <td>50.0</td>\n",
       "    </tr>\n",
       "    <tr>\n",
       "      <th>2</th>\n",
       "      <td>hk001</td>\n",
       "      <td>한국폴리텍대학</td>\n",
       "      <td>KEYWORD0002</td>\n",
       "      <td>1500.0</td>\n",
       "      <td>30.0</td>\n",
       "      <td>30.0</td>\n",
       "    </tr>\n",
       "    <tr>\n",
       "      <th>3</th>\n",
       "      <td>hk001</td>\n",
       "      <td>hkcode</td>\n",
       "      <td>KEYWORD0006</td>\n",
       "      <td>NaN</td>\n",
       "      <td>NaN</td>\n",
       "      <td>NaN</td>\n",
       "    </tr>\n",
       "    <tr>\n",
       "      <th>4</th>\n",
       "      <td>hk002</td>\n",
       "      <td>스마트금융과</td>\n",
       "      <td>KEYWORD0001</td>\n",
       "      <td>600.0</td>\n",
       "      <td>50.0</td>\n",
       "      <td>500.0</td>\n",
       "    </tr>\n",
       "    <tr>\n",
       "      <th>5</th>\n",
       "      <td>hk002</td>\n",
       "      <td>폴리텍대</td>\n",
       "      <td>KEYWORD0003</td>\n",
       "      <td>0.0</td>\n",
       "      <td>NaN</td>\n",
       "      <td>2000.0</td>\n",
       "    </tr>\n",
       "    <tr>\n",
       "      <th>6</th>\n",
       "      <td>hk002</td>\n",
       "      <td>강서</td>\n",
       "      <td>KEYWORD0005</td>\n",
       "      <td>500.0</td>\n",
       "      <td>30.0</td>\n",
       "      <td>3000.0</td>\n",
       "    </tr>\n",
       "    <tr>\n",
       "      <th>7</th>\n",
       "      <td>hk003</td>\n",
       "      <td>스마트금융과</td>\n",
       "      <td>KEYWORD0001</td>\n",
       "      <td>1000.0</td>\n",
       "      <td>20.0</td>\n",
       "      <td>200.0</td>\n",
       "    </tr>\n",
       "    <tr>\n",
       "      <th>8</th>\n",
       "      <td>hk003</td>\n",
       "      <td>폴리텍대</td>\n",
       "      <td>KEYWORD0003</td>\n",
       "      <td>500.0</td>\n",
       "      <td>10.0</td>\n",
       "      <td>1500.0</td>\n",
       "    </tr>\n",
       "    <tr>\n",
       "      <th>9</th>\n",
       "      <td>hk003</td>\n",
       "      <td>한국폴리텍대학</td>\n",
       "      <td>AD</td>\n",
       "      <td>2000.0</td>\n",
       "      <td>50.0</td>\n",
       "      <td>10000.0</td>\n",
       "    </tr>\n",
       "    <tr>\n",
       "      <th>10</th>\n",
       "      <td>hk004</td>\n",
       "      <td>하둡</td>\n",
       "      <td>KEYWORD0007</td>\n",
       "      <td>100.0</td>\n",
       "      <td>5.0</td>\n",
       "      <td>200.0</td>\n",
       "    </tr>\n",
       "    <tr>\n",
       "      <th>11</th>\n",
       "      <td>hk004</td>\n",
       "      <td>빅데이터</td>\n",
       "      <td>KEYWORD0008</td>\n",
       "      <td>200.0</td>\n",
       "      <td>5.0</td>\n",
       "      <td>300.0</td>\n",
       "    </tr>\n",
       "  </tbody>\n",
       "</table>\n",
       "</div>"
      ],
      "text/plain": [
       "     광고코드    광고키워드       키워드아이디  설정한 클릭당 광고가격   클릭수      노출수\n",
       "0   hk001   스마트금융과  KEYWORD0001         500.0  10.0    100.0\n",
       "1   hk001    강서캠퍼스  KEYWORD0004        1000.0  20.0     50.0\n",
       "2   hk001  한국폴리텍대학  KEYWORD0002        1500.0  30.0     30.0\n",
       "3   hk001   hkcode  KEYWORD0006           NaN   NaN      NaN\n",
       "4   hk002   스마트금융과  KEYWORD0001         600.0  50.0    500.0\n",
       "5   hk002     폴리텍대  KEYWORD0003           0.0   NaN   2000.0\n",
       "6   hk002       강서  KEYWORD0005         500.0  30.0   3000.0\n",
       "7   hk003   스마트금융과  KEYWORD0001        1000.0  20.0    200.0\n",
       "8   hk003     폴리텍대  KEYWORD0003         500.0  10.0   1500.0\n",
       "9   hk003  한국폴리텍대학           AD        2000.0  50.0  10000.0\n",
       "10  hk004       하둡  KEYWORD0007         100.0   5.0    200.0\n",
       "11  hk004     빅데이터  KEYWORD0008         200.0   5.0    300.0"
      ]
     },
     "execution_count": 59,
     "metadata": {},
     "output_type": "execute_result"
    }
   ],
   "source": [
    "indata = pd.read_clipboard()\n",
    "tableName = \"키워드관리\"\n",
    "indata"
   ]
  },
  {
   "cell_type": "code",
   "execution_count": 60,
   "id": "c79ea4e4-0c8f-44ad-a4c7-678428e519fb",
   "metadata": {},
   "outputs": [
    {
     "data": {
      "text/plain": [
       "광고코드             object\n",
       "광고키워드            object\n",
       "키워드아이디           object\n",
       "설정한 클릭당 광고가격    float64\n",
       "클릭수             float64\n",
       "노출수             float64\n",
       "dtype: object"
      ]
     },
     "execution_count": 60,
     "metadata": {},
     "output_type": "execute_result"
    }
   ],
   "source": [
    "indata.dtypes"
   ]
  },
  {
   "cell_type": "code",
   "execution_count": null,
   "id": "9b5ade64-f534-4f38-a767-6c83585a4390",
   "metadata": {},
   "outputs": [],
   "source": [
    "# object 타입을 VARCHAR2로 설정\n",
    "objectColumns = list(indata.columns[indata.dtypes == 'object'])\n",
    "typeDict={}\n",
    "maxLen = 100\n",
    "\n",
    "for i in range(0, len(objectColumns)):\n",
    "    typeDict[ objectColumns[i] ] = types.VARCHAR(maxLen)\n",
    "\n",
    "# float 타입을 NUMERIC으로 설정\n",
    "floatColumns = list(indata.columns[indata.dtypes == 'float64'])\n",
    "\n",
    "for i in range(0, len(floatColumns)):\n",
    "    typeDict[ floatColumns[i] ] = types.NUMERIC"
   ]
  },
  {
   "cell_type": "code",
   "execution_count": 63,
   "id": "2bd86071-20a3-4ab3-85ea-fd5f2917de4d",
   "metadata": {},
   "outputs": [
    {
     "name": "stdout",
     "output_type": "stream",
     "text": [
      "키워드관리 is created in oracle+cx_oracle orcl\n"
     ]
    }
   ],
   "source": [
    "try :\n",
    "    # 태이블 생성\n",
    "    indata.to_sql(name = tableName,\n",
    "                  con = pgEngine,\n",
    "                  if_exists='replace',\n",
    "                  dtype=typeDict,\n",
    "                  index=False)\n",
    "    \n",
    "    print(f\"{tableName} is created in {dbPrefix} {dbName}\")\n",
    "except Exception as e :\n",
    "    print(e)"
   ]
  },
  {
   "cell_type": "code",
   "execution_count": null,
   "id": "eac0c006-40d8-4543-a56a-d2423d580d68",
   "metadata": {},
   "outputs": [],
   "source": []
  }
 ],
 "metadata": {
  "kernelspec": {
   "display_name": "Python 3 (ipykernel)",
   "language": "python",
   "name": "python3"
  },
  "language_info": {
   "codemirror_mode": {
    "name": "ipython",
    "version": 3
   },
   "file_extension": ".py",
   "mimetype": "text/x-python",
   "name": "python",
   "nbconvert_exporter": "python",
   "pygments_lexer": "ipython3",
   "version": "3.10.11"
  }
 },
 "nbformat": 4,
 "nbformat_minor": 5
}
