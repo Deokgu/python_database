{
  "nbformat": 4,
  "nbformat_minor": 0,
  "metadata": {
    "colab": {
      "provenance": []
    },
    "kernelspec": {
      "name": "python3",
      "display_name": "Python 3"
    },
    "language_info": {
      "name": "python"
    }
  },
  "cells": [
    {
      "cell_type": "code",
      "execution_count": null,
      "metadata": {
        "colab": {
          "base_uri": "https://localhost:8080/"
        },
        "id": "0lKt-c57YOUk",
        "outputId": "6824de7d-1206-4da1-aca4-12680e97e377"
      },
      "outputs": [
        {
          "output_type": "stream",
          "name": "stdout",
          "text": [
            "Mounted at /content/drive\n"
          ]
        }
      ],
      "source": [
        "# 구글 코랩이라면 실행\n",
        "from google.colab import drive\n",
        "drive.mount(\"/content/drive\")"
      ]
    },
    {
      "cell_type": "markdown",
      "source": [
        "### import"
      ],
      "metadata": {
        "id": "lWj95KO_bpjg"
      }
    },
    {
      "cell_type": "code",
      "source": [
        "import pandas as pd\n",
        "from sqlalchemy import create_engine"
      ],
      "metadata": {
        "id": "RU3wziYaboK5"
      },
      "execution_count": null,
      "outputs": []
    },
    {
      "cell_type": "markdown",
      "source": [
        "### postgreSQL 접속정보"
      ],
      "metadata": {
        "id": "rhQaDr9jYynY"
      }
    },
    {
      "cell_type": "code",
      "source": [
        "dbPrefix = \"postgresql\" # postgreSQL\n",
        "dbId = \"id\" # DB 아이디\n",
        "dbPw = \"pw\" # DB 비밀번호\n",
        "dbIp = \"0.0.0.0\" # DB IP주소\n",
        "dbPort = \"5432\" # DB 포트\n",
        "dbName = \"dbName\" # DB 이름\n",
        "\n",
        "pgEngine = create_engine(f\"{dbPrefix}://{dbId}:{dbPw}@{dbIp}:{dbPort}/{dbName}\")"
      ],
      "metadata": {
        "id": "2k0tqR95ZEmf"
      },
      "execution_count": null,
      "outputs": []
    },
    {
      "cell_type": "markdown",
      "source": [
        "### 데이터 읽어오기"
      ],
      "metadata": {
        "id": "By4COmVlcDb3"
      }
    },
    {
      "cell_type": "code",
      "source": [
        "# 읽어올 테이블\n",
        "selSelect = \"\"\"\n",
        "SELECT *\n",
        "FROM 테이블명\n",
        "\"\"\"\n",
        "\n",
        "# 데이터 읽어오기\n",
        "inData = pd.read_sql_query(selSelect, pgEngine)"
      ],
      "metadata": {
        "id": "e8JrY6iKcAPY"
      },
      "execution_count": null,
      "outputs": []
    },
    {
      "cell_type": "markdown",
      "source": [
        "### 데이터 저장하기"
      ],
      "metadata": {
        "id": "OyKyjCbed8Zx"
      }
    },
    {
      "cell_type": "code",
      "source": [
        "# 데이터 저장\n",
        "tableName = \"\"\n",
        "indata.to_sql(name = tableName, # 테이블명\n",
        "              con = pgEngine, # 저장할 DB 접속정보\n",
        "              if_exists='replace', # 테이블이 있으면 덮어씌움\n",
        "              index=False) # pandas에서 자동 생성한 index 제거"
      ],
      "metadata": {
        "id": "thBYfkYme_QR"
      },
      "execution_count": null,
      "outputs": []
    },
    {
      "cell_type": "code",
      "source": [],
      "metadata": {
        "id": "-tSbcFoFf2hK"
      },
      "execution_count": null,
      "outputs": []
    }
  ]
}